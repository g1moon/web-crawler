{
 "cells": [
  {
   "cell_type": "markdown",
   "metadata": {},
   "source": [
    "# selector"
   ]
  },
  {
   "cell_type": "code",
   "execution_count": 13,
   "metadata": {},
   "outputs": [],
   "source": [
    "from selenium import webdriver\n",
    "from selenium.webdriver.common.keys import Keys\n",
    "import time\n",
    "from bs4 import BeautifulSoup\n",
    "import urllib.request \n",
    "import urllib.request\n",
    "import pandas as pd\n",
    "\n",
    "\n",
    "from bs4 import BeautifulSoup \n",
    "import requests "
   ]
  },
  {
   "cell_type": "code",
   "execution_count": null,
   "metadata": {},
   "outputs": [],
   "source": []
  },
  {
   "cell_type": "code",
   "execution_count": 10,
   "metadata": {},
   "outputs": [],
   "source": [
    "from urllib.parse   import quote\n",
    "from urllib.request import urlopen\n",
    "url = 'https://www.shuttledelivery.co.kr/ko/restaurant/menu/943/' + quote(\"국수나무\")\n",
    "\n",
    "# soup = BeautifulSoup(urllib.request.urlopen(url).read(), 'html.parser')\n",
    "res = requests.get(url)\n",
    "bs = BeautifulSoup(res.content, 'html.parser')  \n",
    "\n",
    "menu_tables = bs.select('#leftBasketColumn > div > div')"
   ]
  },
  {
   "cell_type": "code",
   "execution_count": 61,
   "metadata": {},
   "outputs": [],
   "source": [
    "# for menu_table in menu_tables:\n",
    "#     print(menu_table)"
   ]
  },
  {
   "cell_type": "code",
   "execution_count": 91,
   "metadata": {},
   "outputs": [
    {
     "name": "stdout",
     "output_type": "stream",
     "text": [
      "13,000원\n",
      "13,000원\n",
      "9,500원\n",
      "7,500원\n",
      "11,000원\n",
      "11,000원\n",
      "11,000원\n"
     ]
    }
   ],
   "source": [
    "for i in menu_tables[0].select('div span.price'):\n",
    "    print(i.text.strip())"
   ]
  },
  {
   "cell_type": "code",
   "execution_count": 95,
   "metadata": {},
   "outputs": [
    {
     "name": "stdout",
     "output_type": "stream",
     "text": [
      "로제돈까스정식\n",
      "크림돈까스정식\n",
      "국치정식\n",
      "국만정식\n",
      "냉치정식\n",
      "모듬 어묵탕면 정식\n",
      "모듬 어묵우동 정식\n"
     ]
    }
   ],
   "source": [
    "for menu in menu_tables[0].select('div h4.itemtitle'):\n",
    "    print(menu.text.strip())"
   ]
  },
  {
   "cell_type": "code",
   "execution_count": 1,
   "metadata": {},
   "outputs": [],
   "source": [
    "# url = \"https://www.yogiyo.co.kr/mobile/?utm_source=naverpc&utm_medium=cpc&utm_campaign=sem_ven_web_eat_kr_fr.etc&utm_term=%EA%B5%AD%EC%88%98%EB%82%98%EB%AC%B4%EB%A9%94%EB%89%B4&n_media=27758&n_query=%EA%B5%AD%EC%88%98%EB%82%98%EB%AC%B4%EB%A9%94%EB%89%B4&n_rank=3&n_ad_group=grp-a001-01-000000008225776&n_ad=nad-a001-01-000000044655738&n_keyword_id=nkw-a001-01-000001536460041&n_keyword=%EA%B5%AD%EC%88%98%EB%82%98%EB%AC%B4%EB%A9%94%EB%89%B4&n_campaign_type=1&NaPm=ct%3Dk7dclml4%7Cci%3D0AG0003JEzXs4dN0iL12%7Ctr%3Dsa%7Chk%3Dee25475cef5ced36254e525ce02de16e53aaeb0e#/304188/\"\n",
    "# res = requests.get(url)\n",
    "# bs = BeautifulSoup(res.content, 'html.parser')  \n",
    "\n",
    "# bs"
   ]
  },
  {
   "cell_type": "code",
   "execution_count": null,
   "metadata": {},
   "outputs": [],
   "source": []
  },
  {
   "cell_type": "markdown",
   "metadata": {},
   "source": [
    "# 요기요크롤링"
   ]
  },
  {
   "cell_type": "code",
   "execution_count": 3,
   "metadata": {},
   "outputs": [],
   "source": [
    "from selenium import webdriver\n",
    "from selenium.webdriver.common.keys import Keys\n",
    "import time\n",
    "from bs4 import BeautifulSoup\n"
   ]
  },
  {
   "cell_type": "code",
   "execution_count": 2,
   "metadata": {},
   "outputs": [],
   "source": [
    "# chromedriver = './chromedriver.exe' \n",
    "driver = webdriver.Chrome('./chromedriver')\n",
    "driver.implicitly_wait(3)  # 로딩 될때까지 3초 대기\n",
    "\n",
    "time.sleep(3)\n",
    "\n",
    "driver.get(\"https://www.yogiyo.co.kr/mobile/?utm_source=naverpc&utm_medium=cpc&utm_campaign=sem_ven_web_eat_kr_fr.etc&utm_term=%EA%B5%AD%EC%88%98%EB%82%98%EB%AC%B4%EB%A9%94%EB%89%B4&n_media=27758&n_query=%EA%B5%AD%EC%88%98%EB%82%98%EB%AC%B4%EB%A9%94%EB%89%B4&n_rank=3&n_ad_group=grp-a001-01-000000008225776&n_ad=nad-a001-01-000000044655738&n_keyword_id=nkw-a001-01-000001536460041&n_keyword=%EA%B5%AD%EC%88%98%EB%82%98%EB%AC%B4%EB%A9%94%EB%89%B4&n_campaign_type=1&NaPm=ct%3Dk7dclml4%7Cci%3D0AG0003JEzXs4dN0iL12%7Ctr%3Dsa%7Chk%3Dee25475cef5ced36254e525ce02de16e53aaeb0e#/304188/\")\n",
    "time.sleep(2)\n",
    "                          \n"
   ]
  },
  {
   "cell_type": "code",
   "execution_count": 3,
   "metadata": {},
   "outputs": [],
   "source": [
    "bs = BeautifulSoup(driver.page_source, 'html.parser')\n",
    "\n"
   ]
  },
  {
   "cell_type": "code",
   "execution_count": 14,
   "metadata": {},
   "outputs": [],
   "source": [
    "menus = bs.select('#menu > div > div > div.panel-collapse.collapse.in.btn-scroll-container > div > ul > li')\n",
    "\n",
    "#test\n",
    "# menus[0].select('div.menu-name')[0].text\n",
    "# menus[0].select('div.menu-price span.text-strike')[0].text[:-1]\n",
    "\n",
    "menu_list = []\n",
    "price_list = []\n",
    "\n",
    "for menu in menus:\n",
    "    menu_list.append(menu.select('div.menu-name')[0].text)\n",
    "    price_list.append(menu.select('div.menu-price span.text-strike')[0].text[:-1])"
   ]
  },
  {
   "cell_type": "code",
   "execution_count": 15,
   "metadata": {},
   "outputs": [
    {
     "name": "stdout",
     "output_type": "stream",
     "text": [
      "64 64\n"
     ]
    }
   ],
   "source": [
    "print(len(menu_list), len(price_list))"
   ]
  },
  {
   "cell_type": "code",
   "execution_count": 6,
   "metadata": {},
   "outputs": [],
   "source": [
    "# import pandas as pd\n",
    "\n",
    "# df = pd.DataFrame()\n",
    "\n",
    "# for i in range(len(menu_list)):\n",
    "#     menu_list[i] =\n"
   ]
  },
  {
   "cell_type": "code",
   "execution_count": 16,
   "metadata": {},
   "outputs": [],
   "source": [
    "dic = {}\n",
    "for i in range(len(menu_list)):\n",
    "    dic[menu_list[i]] = price_list[i]"
   ]
  },
  {
   "cell_type": "code",
   "execution_count": 17,
   "metadata": {},
   "outputs": [],
   "source": [
    "menu_list[54] = '찐만두(8개)'\n",
    "price_list[54] = '3,000'"
   ]
  },
  {
   "cell_type": "code",
   "execution_count": 18,
   "metadata": {},
   "outputs": [],
   "source": [
    "df = pd.DataFrame()\n",
    "# df['메뉴'] = menu_list\n",
    "# df['가격'] = price_list"
   ]
  },
  {
   "cell_type": "code",
   "execution_count": 19,
   "metadata": {},
   "outputs": [],
   "source": [
    "# df1= df[0:21]\n",
    "# df2 = df[21:41]\n",
    "# df3 = df[41:6]"
   ]
  },
  {
   "cell_type": "code",
   "execution_count": 20,
   "metadata": {},
   "outputs": [],
   "source": [
    "df = pd.DataFrame()\n",
    "\n",
    "a = menu_list[21:42]\n",
    "b = price_list[21:42]\n",
    "\n",
    "a.reverse()\n",
    "b.reverse()\n",
    "\n",
    "# df['메뉴1'] = menu_list[21:42].reverse()\n",
    "# df['가격1'] = price_list[21:42].reverse()\n",
    "\n",
    "df['메뉴1'] = a\n",
    "df['가격1'] = b\n",
    "\n",
    "\n",
    "df['메뉴2'] = menu_list[0:21]\n",
    "df['가격2'] = price_list[0:21]\n",
    "\n",
    "\n",
    "df['메뉴3'] = menu_list[43:64]\n",
    "df['가격3'] = price_list[43:64]"
   ]
  },
  {
   "cell_type": "code",
   "execution_count": 21,
   "metadata": {},
   "outputs": [],
   "source": [
    "menu_list.append('-')\n",
    "price_list.append('-')\n"
   ]
  },
  {
   "cell_type": "code",
   "execution_count": 22,
   "metadata": {},
   "outputs": [],
   "source": [
    "df.columns = ['메뉴','가격','메뉴','가격','메뉴','가격']"
   ]
  },
  {
   "cell_type": "code",
   "execution_count": 23,
   "metadata": {},
   "outputs": [
    {
     "data": {
      "text/html": [
       "<div>\n",
       "<style scoped>\n",
       "    .dataframe tbody tr th:only-of-type {\n",
       "        vertical-align: middle;\n",
       "    }\n",
       "\n",
       "    .dataframe tbody tr th {\n",
       "        vertical-align: top;\n",
       "    }\n",
       "\n",
       "    .dataframe thead th {\n",
       "        text-align: right;\n",
       "    }\n",
       "</style>\n",
       "<table border=\"1\" class=\"dataframe\">\n",
       "  <thead>\n",
       "    <tr style=\"text-align: right;\">\n",
       "      <th></th>\n",
       "      <th>메뉴</th>\n",
       "      <th>가격</th>\n",
       "      <th>메뉴</th>\n",
       "      <th>가격</th>\n",
       "      <th>메뉴</th>\n",
       "      <th>가격</th>\n",
       "    </tr>\n",
       "  </thead>\n",
       "  <tbody>\n",
       "    <tr>\n",
       "      <th>0</th>\n",
       "      <td>순보리비빔냉면</td>\n",
       "      <td>6,000</td>\n",
       "      <td>새콤달콤비빔면</td>\n",
       "      <td>6,000</td>\n",
       "      <td>냉치정식（냉국수＋미니치즈돈까스）</td>\n",
       "      <td>9,000</td>\n",
       "    </tr>\n",
       "    <tr>\n",
       "      <th>1</th>\n",
       "      <td>국만정식（생면국수＋찐만두4개）</td>\n",
       "      <td>6,000</td>\n",
       "      <td>오리엔탈오므라이스</td>\n",
       "      <td>6,500</td>\n",
       "      <td>알찬칼만두국</td>\n",
       "      <td>6,500</td>\n",
       "    </tr>\n",
       "    <tr>\n",
       "      <th>2</th>\n",
       "      <td>국치정식（생면국수＋미니치즈돈까스）</td>\n",
       "      <td>8,000</td>\n",
       "      <td>돈까스카레덮밥</td>\n",
       "      <td>7,000</td>\n",
       "      <td>사골고기국수</td>\n",
       "      <td>7,000</td>\n",
       "    </tr>\n",
       "    <tr>\n",
       "      <th>3</th>\n",
       "      <td>뜨끈탕면정식（모듬어묵탕면＋미니치즈돈까스）</td>\n",
       "      <td>9,500</td>\n",
       "      <td>상하이진한짬뽕</td>\n",
       "      <td>7,000</td>\n",
       "      <td>들깨칼국수（검은콩생면）</td>\n",
       "      <td>6,500</td>\n",
       "    </tr>\n",
       "    <tr>\n",
       "      <th>4</th>\n",
       "      <td>뜨끈우동정식（모듬어묵우동＋미니치즈돈까스）</td>\n",
       "      <td>9,500</td>\n",
       "      <td>치즈돈까스</td>\n",
       "      <td>8,500</td>\n",
       "      <td>모둠어묵탕면</td>\n",
       "      <td>6,000</td>\n",
       "    </tr>\n",
       "    <tr>\n",
       "      <th>5</th>\n",
       "      <td>힘찬정식（소고기낙지덮밥＋미니우동）</td>\n",
       "      <td>9,800</td>\n",
       "      <td>돈까스덮밥</td>\n",
       "      <td>6,500</td>\n",
       "      <td>모둠어묵우동</td>\n",
       "      <td>6,000</td>\n",
       "    </tr>\n",
       "    <tr>\n",
       "      <th>6</th>\n",
       "      <td>진국정식（베트남소고기쌀국수＋새우튀김2개）</td>\n",
       "      <td>8,500</td>\n",
       "      <td>오리엔탈오므라이스</td>\n",
       "      <td>6,500</td>\n",
       "      <td>갓모둠튀김</td>\n",
       "      <td>4,500</td>\n",
       "    </tr>\n",
       "    <tr>\n",
       "      <th>7</th>\n",
       "      <td>크림돈까스정식（크림돈까스＋미니우동＋밥）</td>\n",
       "      <td>10,500</td>\n",
       "      <td>소고기낙지덮밥</td>\n",
       "      <td>7,300</td>\n",
       "      <td>국물떡볶이</td>\n",
       "      <td>4,000</td>\n",
       "    </tr>\n",
       "    <tr>\n",
       "      <th>8</th>\n",
       "      <td>로제돈까스정식（로제돈까스＋미니우동＋밥）</td>\n",
       "      <td>10,500</td>\n",
       "      <td>치즈돈까스</td>\n",
       "      <td>8,500</td>\n",
       "      <td>새우튀김2개</td>\n",
       "      <td>2,000</td>\n",
       "    </tr>\n",
       "    <tr>\n",
       "      <th>9</th>\n",
       "      <td>돈까스카레덮밥</td>\n",
       "      <td>7,000</td>\n",
       "      <td>상하이진한짬뽕</td>\n",
       "      <td>7,000</td>\n",
       "      <td>미니 고구마치즈돈까스</td>\n",
       "      <td>4,000</td>\n",
       "    </tr>\n",
       "    <tr>\n",
       "      <th>10</th>\n",
       "      <td>오리엔탈오므라이스</td>\n",
       "      <td>6,500</td>\n",
       "      <td>새콤달콤비빔면</td>\n",
       "      <td>6,000</td>\n",
       "      <td>미니 치즈돈까스</td>\n",
       "      <td>3,500</td>\n",
       "    </tr>\n",
       "    <tr>\n",
       "      <th>11</th>\n",
       "      <td>국수나무알밥</td>\n",
       "      <td>7,000</td>\n",
       "      <td>국수나무돈까스</td>\n",
       "      <td>7,300</td>\n",
       "      <td>찐만두(8개)</td>\n",
       "      <td>3,000</td>\n",
       "    </tr>\n",
       "    <tr>\n",
       "      <th>12</th>\n",
       "      <td>상하이진한짬뽕밥</td>\n",
       "      <td>7,000</td>\n",
       "      <td>로제돈까스</td>\n",
       "      <td>8,900</td>\n",
       "      <td>미니우동</td>\n",
       "      <td>2,500</td>\n",
       "    </tr>\n",
       "    <tr>\n",
       "      <th>13</th>\n",
       "      <td>소고기낙지덮밥</td>\n",
       "      <td>7,300</td>\n",
       "      <td>크림돈까스</td>\n",
       "      <td>8,900</td>\n",
       "      <td>찐만두（4개）</td>\n",
       "      <td>1,500</td>\n",
       "    </tr>\n",
       "    <tr>\n",
       "      <th>14</th>\n",
       "      <td>소고기덮밥</td>\n",
       "      <td>6,900</td>\n",
       "      <td>치즈돈까스</td>\n",
       "      <td>8,500</td>\n",
       "      <td>만들어먹는 주먹밥</td>\n",
       "      <td>3,500</td>\n",
       "    </tr>\n",
       "    <tr>\n",
       "      <th>15</th>\n",
       "      <td>소고기짬뽕밥</td>\n",
       "      <td>8,500</td>\n",
       "      <td>김치찌개돈까스</td>\n",
       "      <td>7,000</td>\n",
       "      <td>생면사리 추가</td>\n",
       "      <td>1,500</td>\n",
       "    </tr>\n",
       "    <tr>\n",
       "      <th>16</th>\n",
       "      <td>소고기짬뽕</td>\n",
       "      <td>8,500</td>\n",
       "      <td>돈까스덮밥</td>\n",
       "      <td>6,500</td>\n",
       "      <td>우동사리 추가</td>\n",
       "      <td>1,500</td>\n",
       "    </tr>\n",
       "    <tr>\n",
       "      <th>17</th>\n",
       "      <td>해물백짬뽕</td>\n",
       "      <td>7,500</td>\n",
       "      <td>완소미역국수</td>\n",
       "      <td>5,900</td>\n",
       "      <td>쌀국수사리 추가</td>\n",
       "      <td>1,500</td>\n",
       "    </tr>\n",
       "    <tr>\n",
       "      <th>18</th>\n",
       "      <td>베트남소고기쌀국수</td>\n",
       "      <td>6,500</td>\n",
       "      <td>생면국수</td>\n",
       "      <td>4,500</td>\n",
       "      <td>공기밥</td>\n",
       "      <td>1,000</td>\n",
       "    </tr>\n",
       "    <tr>\n",
       "      <th>19</th>\n",
       "      <td>상하이진한짬뽕</td>\n",
       "      <td>7,000</td>\n",
       "      <td>새콤달콤비빔면</td>\n",
       "      <td>6,000</td>\n",
       "      <td>친환경 한라봉</td>\n",
       "      <td>1,000</td>\n",
       "    </tr>\n",
       "    <tr>\n",
       "      <th>20</th>\n",
       "      <td>새우튀김우동</td>\n",
       "      <td>6,000</td>\n",
       "      <td>국수나무우동</td>\n",
       "      <td>4,500</td>\n",
       "      <td>음료수</td>\n",
       "      <td>2,000</td>\n",
       "    </tr>\n",
       "  </tbody>\n",
       "</table>\n",
       "</div>"
      ],
      "text/plain": [
       "                        메뉴      가격         메뉴     가격                 메뉴     가격\n",
       "0                  순보리비빔냉면   6,000    새콤달콤비빔면  6,000  냉치정식（냉국수＋미니치즈돈까스）  9,000\n",
       "1         국만정식（생면국수＋찐만두4개）   6,000  오리엔탈오므라이스  6,500             알찬칼만두국  6,500\n",
       "2       국치정식（생면국수＋미니치즈돈까스）   8,000    돈까스카레덮밥  7,000             사골고기국수  7,000\n",
       "3   뜨끈탕면정식（모듬어묵탕면＋미니치즈돈까스）   9,500    상하이진한짬뽕  7,000       들깨칼국수（검은콩생면）  6,500\n",
       "4   뜨끈우동정식（모듬어묵우동＋미니치즈돈까스）   9,500      치즈돈까스  8,500             모둠어묵탕면  6,000\n",
       "5       힘찬정식（소고기낙지덮밥＋미니우동）   9,800      돈까스덮밥  6,500             모둠어묵우동  6,000\n",
       "6   진국정식（베트남소고기쌀국수＋새우튀김2개）   8,500  오리엔탈오므라이스  6,500              갓모둠튀김  4,500\n",
       "7    크림돈까스정식（크림돈까스＋미니우동＋밥）  10,500    소고기낙지덮밥  7,300              국물떡볶이  4,000\n",
       "8    로제돈까스정식（로제돈까스＋미니우동＋밥）  10,500      치즈돈까스  8,500             새우튀김2개  2,000\n",
       "9                  돈까스카레덮밥   7,000    상하이진한짬뽕  7,000        미니 고구마치즈돈까스  4,000\n",
       "10               오리엔탈오므라이스   6,500    새콤달콤비빔면  6,000           미니 치즈돈까스  3,500\n",
       "11                  국수나무알밥   7,000    국수나무돈까스  7,300            찐만두(8개)  3,000\n",
       "12                상하이진한짬뽕밥   7,000      로제돈까스  8,900               미니우동  2,500\n",
       "13                 소고기낙지덮밥   7,300      크림돈까스  8,900            찐만두（4개）  1,500\n",
       "14                   소고기덮밥   6,900      치즈돈까스  8,500          만들어먹는 주먹밥  3,500\n",
       "15                  소고기짬뽕밥   8,500    김치찌개돈까스  7,000            생면사리 추가  1,500\n",
       "16                   소고기짬뽕   8,500      돈까스덮밥  6,500            우동사리 추가  1,500\n",
       "17                   해물백짬뽕   7,500     완소미역국수  5,900           쌀국수사리 추가  1,500\n",
       "18               베트남소고기쌀국수   6,500       생면국수  4,500                공기밥  1,000\n",
       "19                 상하이진한짬뽕   7,000    새콤달콤비빔면  6,000            친환경 한라봉  1,000\n",
       "20                  새우튀김우동   6,000     국수나무우동  4,500                음료수  2,000"
      ]
     },
     "execution_count": 23,
     "metadata": {},
     "output_type": "execute_result"
    }
   ],
   "source": [
    "df"
   ]
  },
  {
   "cell_type": "code",
   "execution_count": 26,
   "metadata": {},
   "outputs": [],
   "source": [
    "df.to_excel('./guksu_menu.xlsx')"
   ]
  },
  {
   "cell_type": "code",
   "execution_count": 292,
   "metadata": {},
   "outputs": [
    {
     "data": {
      "text/plain": [
       "2"
      ]
     },
     "execution_count": 292,
     "metadata": {},
     "output_type": "execute_result"
    }
   ],
   "source": [
    "True + True"
   ]
  },
  {
   "cell_type": "code",
   "execution_count": 27,
   "metadata": {},
   "outputs": [],
   "source": [
    "! open ."
   ]
  },
  {
   "cell_type": "code",
   "execution_count": null,
   "metadata": {},
   "outputs": [],
   "source": []
  }
 ],
 "metadata": {
  "kernelspec": {
   "display_name": "Python 3",
   "language": "python",
   "name": "python3"
  },
  "language_info": {
   "codemirror_mode": {
    "name": "ipython",
    "version": 3
   },
   "file_extension": ".py",
   "mimetype": "text/x-python",
   "name": "python",
   "nbconvert_exporter": "python",
   "pygments_lexer": "ipython3",
   "version": "3.7.3"
  }
 },
 "nbformat": 4,
 "nbformat_minor": 4
}
