{
 "cells": [
  {
   "cell_type": "code",
   "execution_count": 80,
   "metadata": {},
   "outputs": [],
   "source": [
    "from selenium import webdriver\n",
    "from selenium.webdriver.common.keys import Keys\n",
    "import time\n",
    "from bs4 import BeautifulSoup\n",
    "\n",
    "\n"
   ]
  },
  {
   "cell_type": "code",
   "execution_count": 85,
   "metadata": {},
   "outputs": [],
   "source": [
    "# chromedriver = './chromedriver.exe' \n",
    "driver = webdriver.Chrome('./chromedriver')\n",
    "driver.implicitly_wait(3)  # 로딩 될때까지 3초 대기\n",
    "\n",
    "\n",
    "\n"
   ]
  },
  {
   "cell_type": "code",
   "execution_count": 19,
   "metadata": {},
   "outputs": [
    {
     "data": {
      "text/html": [
       "<div>\n",
       "<style scoped>\n",
       "    .dataframe tbody tr th:only-of-type {\n",
       "        vertical-align: middle;\n",
       "    }\n",
       "\n",
       "    .dataframe tbody tr th {\n",
       "        vertical-align: top;\n",
       "    }\n",
       "\n",
       "    .dataframe thead th {\n",
       "        text-align: right;\n",
       "    }\n",
       "</style>\n",
       "<table border=\"1\" class=\"dataframe\">\n",
       "  <thead>\n",
       "    <tr style=\"text-align: right;\">\n",
       "      <th></th>\n",
       "      <th>SW 학습 On-Line 멘토링 프로그램을 위한 기초교양 컴퓨터프로그래밍 학생 명단</th>\n",
       "      <th>Unnamed: 1</th>\n",
       "      <th>Unnamed: 2</th>\n",
       "      <th>Unnamed: 3</th>\n",
       "      <th>Unnamed: 4</th>\n",
       "      <th>Unnamed: 5</th>\n",
       "      <th>Unnamed: 6</th>\n",
       "      <th>Unnamed: 7</th>\n",
       "      <th>Unnamed: 8</th>\n",
       "      <th>Unnamed: 9</th>\n",
       "    </tr>\n",
       "  </thead>\n",
       "  <tbody>\n",
       "    <tr>\n",
       "      <th>0</th>\n",
       "      <td>과목</td>\n",
       "      <td>학수번호</td>\n",
       "      <td>분반</td>\n",
       "      <td>담당교수</td>\n",
       "      <td>학번</td>\n",
       "      <td>성명</td>\n",
       "      <td>핸드폰</td>\n",
       "      <td>NaN</td>\n",
       "      <td>NaN</td>\n",
       "      <td>NaN</td>\n",
       "    </tr>\n",
       "    <tr>\n",
       "      <th>1</th>\n",
       "      <td>컴퓨터프로그래밍</td>\n",
       "      <td>NA01106</td>\n",
       "      <td>12</td>\n",
       "      <td>김윤이</td>\n",
       "      <td>201905014</td>\n",
       "      <td>설예지</td>\n",
       "      <td>010-2554-3462</td>\n",
       "      <td>NaN</td>\n",
       "      <td>담당교원</td>\n",
       "      <td>김윤이(010-3227-4526)</td>\n",
       "    </tr>\n",
       "    <tr>\n",
       "      <th>2</th>\n",
       "      <td>컴퓨터프로그래밍</td>\n",
       "      <td>NA01106</td>\n",
       "      <td>12</td>\n",
       "      <td>김윤이</td>\n",
       "      <td>201905024</td>\n",
       "      <td>이자윤</td>\n",
       "      <td>010-4703-2143</td>\n",
       "      <td>NaN</td>\n",
       "      <td>담당자</td>\n",
       "      <td>배다솜(010-2736-8167)</td>\n",
       "    </tr>\n",
       "    <tr>\n",
       "      <th>3</th>\n",
       "      <td>컴퓨터프로그래밍</td>\n",
       "      <td>NA01106</td>\n",
       "      <td>12</td>\n",
       "      <td>김윤이</td>\n",
       "      <td>201905042</td>\n",
       "      <td>김소망</td>\n",
       "      <td>01030446435</td>\n",
       "      <td>NaN</td>\n",
       "      <td>NaN</td>\n",
       "      <td>NaN</td>\n",
       "    </tr>\n",
       "    <tr>\n",
       "      <th>4</th>\n",
       "      <td>컴퓨터프로그래밍</td>\n",
       "      <td>NA01106</td>\n",
       "      <td>12</td>\n",
       "      <td>김윤이</td>\n",
       "      <td>201905046</td>\n",
       "      <td>김이솔</td>\n",
       "      <td>01074023969</td>\n",
       "      <td>NaN</td>\n",
       "      <td>NaN</td>\n",
       "      <td>NaN</td>\n",
       "    </tr>\n",
       "  </tbody>\n",
       "</table>\n",
       "</div>"
      ],
      "text/plain": [
       "   SW 학습 On-Line 멘토링 프로그램을 위한 기초교양 컴퓨터프로그래밍 학생 명단 Unnamed: 1 Unnamed: 2  \\\n",
       "0                                              과목       학수번호         분반   \n",
       "1                                        컴퓨터프로그래밍    NA01106         12   \n",
       "2                                        컴퓨터프로그래밍    NA01106         12   \n",
       "3                                        컴퓨터프로그래밍    NA01106         12   \n",
       "4                                        컴퓨터프로그래밍    NA01106         12   \n",
       "\n",
       "  Unnamed: 3 Unnamed: 4 Unnamed: 5     Unnamed: 6  Unnamed: 7 Unnamed: 8  \\\n",
       "0       담당교수         학번         성명            핸드폰         NaN        NaN   \n",
       "1        김윤이  201905014        설예지  010-2554-3462         NaN       담당교원   \n",
       "2        김윤이  201905024        이자윤  010-4703-2143         NaN        담당자   \n",
       "3        김윤이  201905042        김소망    01030446435         NaN        NaN   \n",
       "4        김윤이  201905046        김이솔    01074023969         NaN        NaN   \n",
       "\n",
       "           Unnamed: 9  \n",
       "0                 NaN  \n",
       "1  김윤이(010-3227-4526)  \n",
       "2  배다솜(010-2736-8167)  \n",
       "3                 NaN  \n",
       "4                 NaN  "
      ]
     },
     "execution_count": 19,
     "metadata": {},
     "output_type": "execute_result"
    }
   ],
   "source": [
    "import pandas as pd\n",
    "import numpy as np\n",
    "\n",
    "df = pd.read_excel('a.xlsx')\n",
    "df.head()"
   ]
  },
  {
   "cell_type": "code",
   "execution_count": 39,
   "metadata": {},
   "outputs": [
    {
     "data": {
      "text/plain": [
       "['01025543462',\n",
       " '01047032143',\n",
       " '01030446435',\n",
       " '01074023969',\n",
       " '01096369880',\n",
       " '01037724574',\n",
       " '01050656713',\n",
       " '01074315020',\n",
       " '01034724030',\n",
       " '01043037004',\n",
       " '01026075760',\n",
       " '01076732343',\n",
       " '01049330943',\n",
       " '01048206214',\n",
       " '01068487411',\n",
       " '01050264285',\n",
       " '01087649266',\n",
       " '01075041419',\n",
       " '01029289597',\n",
       " '01049066010',\n",
       " '01071020524',\n",
       " '01053479142',\n",
       " '01092595087',\n",
       " '01054153742',\n",
       " '01091689471',\n",
       " '01033439748',\n",
       " '01074202568',\n",
       " '01096526003',\n",
       " '01055289381',\n",
       " '01040984561',\n",
       " '01055831207',\n",
       " '01093102814',\n",
       " '01026409731',\n",
       " '01083389682',\n",
       " '01027959104',\n",
       " '01084489606',\n",
       " '01022278094',\n",
       " '01033785943',\n",
       " '01056040616']"
      ]
     },
     "execution_count": 39,
     "metadata": {},
     "output_type": "execute_result"
    }
   ],
   "source": [
    "df.iloc[:, 6]\n",
    "\n",
    "number_list = []\n",
    "for i in df.iloc[1:,6]:\n",
    "#     print(i.replace('-', '').strip())\n",
    "    number_list.append(i.replace('-', '').strip())\n",
    "number_list"
   ]
  },
  {
   "cell_type": "code",
   "execution_count": 86,
   "metadata": {},
   "outputs": [],
   "source": [
    "driver.get(\"https://contact.naver.com/#%7B%22sFilterMenu%22%3A%22allGroup%22%2C%22sGroupNo%22%3A%22%22%2C%22sSortField%22%3A%22registerDate%22%2C%22sSortDirection%22%3A%22desc%22%2C%22sFilterSpell%22%3A%22%22%2C%22sFilterContact%22%3A%22%22%2C%22sFilterSearch%22%3A%22%22%2C%22sFilterType%22%3A%22%22%2C%22sPageIndex%22%3A%221%22%2C%22sMaxPerPage%22%3A%2230%22%2C%22sDomainId%22%3A%22%22%2C%22bFilterFrequent%22%3Afalse%2C%22bDomainService%22%3Afalse%2C%22bIncludeSubGroup%22%3Afalse%2C%22saveTime%22%3A1575205125660%7D\")"
   ]
  },
  {
   "cell_type": "code",
   "execution_count": 87,
   "metadata": {},
   "outputs": [],
   "source": [
    "for i in range(len(number_list)):\n",
    "    add_bar = driver.find_element_by_class_name('skin_corp_bg')\n",
    "    time.sleep(0.2)\n",
    "    add_bar.click()\n",
    "    time.sleep(0.2)\n",
    "\n",
    "    \n",
    "    sung_bar = driver.find_element_by_id('inputLastName')\n",
    "    time.sleep(0.2)\n",
    "\n",
    "    sung_bar.click()\n",
    "    time.sleep(0.2)\n",
    "\n",
    "    sung_bar.send_keys(str('온라인멘티')+ str(i) )\n",
    "    time.sleep(0.2)\n",
    "\n",
    "\n",
    "    \n",
    "    \n",
    "    number_bar = driver.find_element_by_class_name('_tel_cont')\n",
    "    time.sleep(0.2)\n",
    "\n",
    "    number_bar.click()\n",
    "    time.sleep(0.2)\n",
    "\n",
    "    number_bar.send_keys(number_list[i])\n",
    "    time.sleep(0.2)\n",
    "\n",
    "    \n",
    "    save_bar = driver.find_element_by_class_name('point')\n",
    "    time.sleep(0.2)\n",
    "\n",
    "    save_bar.click()\n",
    "    time.sleep(1)\n",
    "\n",
    "    "
   ]
  },
  {
   "cell_type": "code",
   "execution_count": null,
   "metadata": {},
   "outputs": [],
   "source": []
  },
  {
   "cell_type": "code",
   "execution_count": null,
   "metadata": {},
   "outputs": [],
   "source": []
  },
  {
   "cell_type": "code",
   "execution_count": null,
   "metadata": {},
   "outputs": [],
   "source": []
  },
  {
   "cell_type": "code",
   "execution_count": null,
   "metadata": {},
   "outputs": [],
   "source": []
  },
  {
   "cell_type": "code",
   "execution_count": null,
   "metadata": {},
   "outputs": [],
   "source": []
  },
  {
   "cell_type": "code",
   "execution_count": null,
   "metadata": {},
   "outputs": [],
   "source": []
  },
  {
   "cell_type": "code",
   "execution_count": null,
   "metadata": {},
   "outputs": [],
   "source": []
  },
  {
   "cell_type": "code",
   "execution_count": null,
   "metadata": {},
   "outputs": [],
   "source": []
  },
  {
   "cell_type": "code",
   "execution_count": null,
   "metadata": {},
   "outputs": [],
   "source": []
  },
  {
   "cell_type": "code",
   "execution_count": null,
   "metadata": {},
   "outputs": [],
   "source": []
  },
  {
   "cell_type": "code",
   "execution_count": null,
   "metadata": {},
   "outputs": [],
   "source": []
  },
  {
   "cell_type": "code",
   "execution_count": null,
   "metadata": {},
   "outputs": [],
   "source": []
  },
  {
   "cell_type": "code",
   "execution_count": null,
   "metadata": {},
   "outputs": [],
   "source": []
  },
  {
   "cell_type": "code",
   "execution_count": null,
   "metadata": {},
   "outputs": [],
   "source": []
  },
  {
   "cell_type": "code",
   "execution_count": 71,
   "metadata": {},
   "outputs": [],
   "source": []
  },
  {
   "cell_type": "code",
   "execution_count": 72,
   "metadata": {},
   "outputs": [],
   "source": []
  },
  {
   "cell_type": "code",
   "execution_count": null,
   "metadata": {},
   "outputs": [],
   "source": []
  },
  {
   "cell_type": "code",
   "execution_count": 73,
   "metadata": {},
   "outputs": [],
   "source": []
  },
  {
   "cell_type": "code",
   "execution_count": 74,
   "metadata": {},
   "outputs": [],
   "source": []
  },
  {
   "cell_type": "code",
   "execution_count": 79,
   "metadata": {},
   "outputs": [
    {
     "ename": "KeyboardInterrupt",
     "evalue": "",
     "output_type": "error",
     "traceback": [
      "\u001b[0;31m---------------------------------------------------------------------------\u001b[0m",
      "\u001b[0;31mKeyboardInterrupt\u001b[0m                         Traceback (most recent call last)",
      "\u001b[0;32m<ipython-input-79-334c71fe6bda>\u001b[0m in \u001b[0;36m<module>\u001b[0;34m\u001b[0m\n\u001b[1;32m     22\u001b[0m \u001b[0;34m\u001b[0m\u001b[0m\n\u001b[1;32m     23\u001b[0m     \u001b[0mnumber_bar\u001b[0m\u001b[0;34m.\u001b[0m\u001b[0mclick\u001b[0m\u001b[0;34m(\u001b[0m\u001b[0;34m)\u001b[0m\u001b[0;34m\u001b[0m\u001b[0;34m\u001b[0m\u001b[0m\n\u001b[0;32m---> 24\u001b[0;31m     \u001b[0mtime\u001b[0m\u001b[0;34m.\u001b[0m\u001b[0msleep\u001b[0m\u001b[0;34m(\u001b[0m\u001b[0;36m1\u001b[0m\u001b[0;34m)\u001b[0m\u001b[0;34m\u001b[0m\u001b[0;34m\u001b[0m\u001b[0m\n\u001b[0m\u001b[1;32m     25\u001b[0m \u001b[0;34m\u001b[0m\u001b[0m\n\u001b[1;32m     26\u001b[0m     \u001b[0mnumber_bar\u001b[0m\u001b[0;34m.\u001b[0m\u001b[0msend_keys\u001b[0m\u001b[0;34m(\u001b[0m\u001b[0mnumber_list\u001b[0m\u001b[0;34m[\u001b[0m\u001b[0mi\u001b[0m\u001b[0;34m]\u001b[0m\u001b[0;34m)\u001b[0m\u001b[0;34m\u001b[0m\u001b[0;34m\u001b[0m\u001b[0m\n",
      "\u001b[0;31mKeyboardInterrupt\u001b[0m: "
     ]
    }
   ],
   "source": [
    "for i in range(len(number_list)):\n",
    "    add_bar = driver.find_element_by_class_name('skin_corp_bg')\n",
    "    time.sleep(0.5)\n",
    "    add_bar.click()\n",
    "    time.sleep(0.5)\n",
    "\n",
    "    \n",
    "    sung_bar = driver.find_element_by_id('inputLastName')\n",
    "    time.sleep(0.5)\n",
    "\n",
    "    sung_bar.click()\n",
    "    time.sleep(0.5)\n",
    "\n",
    "    sung_bar.send_keys(str('온라인멘티')+ str(i) )\n",
    "    time.sleep(0.5)\n",
    "\n",
    "\n",
    "    \n",
    "    \n",
    "    number_bar = driver.find_element_by_class_name('_tel_cont')\n",
    "    time.sleep(0.5)\n",
    "\n",
    "    number_bar.click()\n",
    "    time.sleep(0.5)\n",
    "\n",
    "    number_bar.send_keys(number_list[i])\n",
    "    time.sleep(0.5)\n",
    "\n",
    "    \n",
    "    save_bar = driver.find_element_by_class_name('point')\n",
    "    time.sleep(0.5)\n",
    "\n",
    "    save_bar.click()\n",
    "    time.sleep(3)\n",
    "\n",
    "    "
   ]
  },
  {
   "cell_type": "code",
   "execution_count": null,
   "metadata": {},
   "outputs": [],
   "source": []
  }
 ],
 "metadata": {
  "kernelspec": {
   "display_name": "Python 3",
   "language": "python",
   "name": "python3"
  },
  "language_info": {
   "codemirror_mode": {
    "name": "ipython",
    "version": 3
   },
   "file_extension": ".py",
   "mimetype": "text/x-python",
   "name": "python",
   "nbconvert_exporter": "python",
   "pygments_lexer": "ipython3",
   "version": "3.7.3"
  }
 },
 "nbformat": 4,
 "nbformat_minor": 4
}
